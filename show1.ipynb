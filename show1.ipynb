{
 "cells": [
  {
   "cell_type": "code",
   "execution_count": 89,
   "metadata": {},
   "outputs": [],
   "source": [
    "#https://medium.com/@codetrade/grad-cam-in-pytorch-a-powerful-tool-for-visualize-explanations-from-deep-networks-bdc7caf0b282\n",
    "#https://www.codetrade.io/blog/grad-cam-a-complete-guide-with-example/\n",
    "#https://towardsdatascience.com/understand-your-algorithm-with-grad-cam-d3b62fce353\n",
    "#https://github.com/jacobgil/pytorch-grad-cam\n",
    "#https://arxiv.org/pdf/1610.02391\n",
    "#https://github.com/mrdbourke/pytorch-deep-learning/blob/main/03_pytorch_computer_vision.ipynb"
   ]
  },
  {
   "cell_type": "code",
   "execution_count": 90,
   "metadata": {},
   "outputs": [],
   "source": [
    "import torch\n",
    "import torch.nn as nn\n",
    "\n",
    "import torchvision\n",
    "from torchvision import datasets\n",
    "from torchvision.transforms import ToTensor\n",
    "\n",
    "import matplotlib.pyplot as plt"
   ]
  },
  {
   "cell_type": "code",
   "execution_count": 91,
   "metadata": {},
   "outputs": [],
   "source": [
    "train_data = datasets.FashionMNIST(\n",
    "    root=\"data\",\n",
    "    train=True,\n",
    "    download=True,\n",
    "    transform=ToTensor()\n",
    ")\n",
    "\n",
    "test_data = datasets.FashionMNIST(\n",
    "    root=\"data\",\n",
    "    train=False,\n",
    "    download=True,\n",
    "    transform=ToTensor()\n",
    ")"
   ]
  },
  {
   "cell_type": "code",
   "execution_count": 92,
   "metadata": {},
   "outputs": [],
   "source": [
    "from torch.utils.data import DataLoader\n",
    "\n",
    "BATCH_SIZE = 32\n",
    "\n",
    "train_dataloader = DataLoader(train_data, batch_size=BATCH_SIZE, shuffle=True)\n",
    "test_dataloader = DataLoader(test_data, batch_size=BATCH_SIZE, shuffle=False)"
   ]
  },
  {
   "cell_type": "code",
   "execution_count": 93,
   "metadata": {},
   "outputs": [],
   "source": [
    "from torch import nn\n",
    "\n",
    "class FashionMnistModel(nn.Module):\n",
    "    def __init__(self, input_shape, hidden_units, output_shape):\n",
    "        super().__init__()\n",
    "        self.block_1 = nn.Sequential(\n",
    "            nn.Conv2d(in_channels=input_shape,\n",
    "                      out_channels=hidden_units,\n",
    "                      kernel_size=3,\n",
    "                      stride=1,\n",
    "                      padding=1),\n",
    "            nn.ReLU(),\n",
    "            nn.Conv2d(in_channels=hidden_units,\n",
    "                        out_channels=hidden_units,\n",
    "                        kernel_size=3,\n",
    "                        stride=1,\n",
    "                        padding=1),\n",
    "            nn.ReLU(),\n",
    "            nn.MaxPool2d(kernel_size=2, stride=2)\n",
    "        )\n",
    "\n",
    "        self.block_2 = nn.Sequential(\n",
    "            nn.Conv2d(hidden_units,\n",
    "                        hidden_units,\n",
    "                        3,\n",
    "                        padding=1),\n",
    "            nn.ReLU(),\n",
    "            nn.Conv2d(hidden_units,\n",
    "                        hidden_units,\n",
    "                        3,\n",
    "                        padding=1),\n",
    "            nn.ReLU(),\n",
    "            nn.MaxPool2d(2)\n",
    "        )\n",
    "\n",
    "        self.classifier = nn.Sequential(\n",
    "            nn.Flatten(),\n",
    "            nn.Linear(in_features=hidden_units*7*7,\n",
    "                        out_features=output_shape),\n",
    "        )\n",
    "        \n",
    "    def forward(self, x):\n",
    "        x = self.block_1(x)\n",
    "        x = self.block_2(x)\n",
    "        x = self.classifier(x)\n",
    "        return x"
   ]
  },
  {
   "cell_type": "code",
   "execution_count": 94,
   "metadata": {},
   "outputs": [],
   "source": [
    "model = FashionMnistModel(1, 10, 10)"
   ]
  },
  {
   "cell_type": "code",
   "execution_count": 95,
   "metadata": {},
   "outputs": [],
   "source": [
    "loss_fn = nn.CrossEntropyLoss()\n",
    "optimizer = torch.optim.Adam(model.parameters(), lr=0.01)"
   ]
  },
  {
   "cell_type": "code",
   "execution_count": 96,
   "metadata": {},
   "outputs": [],
   "source": [
    "from helper_functions import accuracy_fn"
   ]
  },
  {
   "cell_type": "code",
   "execution_count": 97,
   "metadata": {},
   "outputs": [
    {
     "data": {
      "text/plain": [
       "'epochs = 5\\n\\n\\nfor epoch in range(epochs):\\n    print(f\"Epoch {epoch+1}\\n-------------------------------\")\\n    train_loss = 0\\n\\n    for batch, (X, y) in enumerate(train_dataloader):\\n        model.train()\\n        y_pred = model(X)\\n        loss = loss_fn(y_pred, y)\\n        train_loss += loss\\n\\n        optimizer.zero_grad()\\n        loss.backward()\\n        optimizer.step()\\n\\n        if batch % 100 == 0:\\n            print(f\\'looked at {batch * len(X)} / {len(train_dataloader.dataset)}\\')\\n\\n    train_loss /= len(train_dataloader)\\n\\n    test_loss, test_acc = 0, 0\\n    model.eval()\\n\\n    with torch.inference_mode():\\n        for X, y in test_dataloader:\\n            test_pred = model(X)\\n            test_loss += loss_fn(test_pred, y)\\n            test_acc += accuracy_fn(y_true=y, y_pred=test_pred.argmax(dim=1))\\n        test_loss /= len(test_dataloader)\\n        test_acc /= len(test_dataloader)\\n\\n    print(f\"Train Error: {train_loss:.4f}, Test Error: {test_loss:.4f}, Test Accuracy: {test_acc:.4f}\")\\n\\ntest_acc = int(round(test_acc, 0))\\ntorch.save(model.state_dict(), f\"models/model_acc_{test_acc}.pth\")'"
      ]
     },
     "execution_count": 97,
     "metadata": {},
     "output_type": "execute_result"
    }
   ],
   "source": [
    "'''epochs = 5\n",
    "\n",
    "\n",
    "for epoch in range(epochs):\n",
    "    print(f\"Epoch {epoch+1}\\n-------------------------------\")\n",
    "    train_loss = 0\n",
    "\n",
    "    for batch, (X, y) in enumerate(train_dataloader):\n",
    "        model.train()\n",
    "        y_pred = model(X)\n",
    "        loss = loss_fn(y_pred, y)\n",
    "        train_loss += loss\n",
    "\n",
    "        optimizer.zero_grad()\n",
    "        loss.backward()\n",
    "        optimizer.step()\n",
    "\n",
    "        if batch % 100 == 0:\n",
    "            print(f'looked at {batch * len(X)} / {len(train_dataloader.dataset)}')\n",
    "\n",
    "    train_loss /= len(train_dataloader)\n",
    "\n",
    "    test_loss, test_acc = 0, 0\n",
    "    model.eval()\n",
    "\n",
    "    with torch.inference_mode():\n",
    "        for X, y in test_dataloader:\n",
    "            test_pred = model(X)\n",
    "            test_loss += loss_fn(test_pred, y)\n",
    "            test_acc += accuracy_fn(y_true=y, y_pred=test_pred.argmax(dim=1))\n",
    "        test_loss /= len(test_dataloader)\n",
    "        test_acc /= len(test_dataloader)\n",
    "\n",
    "    print(f\"Train Error: {train_loss:.4f}, Test Error: {test_loss:.4f}, Test Accuracy: {test_acc:.4f}\")\n",
    "\n",
    "test_acc = int(round(test_acc, 0))\n",
    "torch.save(model.state_dict(), f\"models/model_acc_{test_acc}.pth\")'''"
   ]
  },
  {
   "cell_type": "code",
   "execution_count": null,
   "metadata": {},
   "outputs": [],
   "source": []
  },
  {
   "cell_type": "code",
   "execution_count": 98,
   "metadata": {},
   "outputs": [
    {
     "name": "stderr",
     "output_type": "stream",
     "text": [
      "/tmp/ipykernel_3765/3261369366.py:2: FutureWarning: You are using `torch.load` with `weights_only=False` (the current default value), which uses the default pickle module implicitly. It is possible to construct malicious pickle data which will execute arbitrary code during unpickling (See https://github.com/pytorch/pytorch/blob/main/SECURITY.md#untrusted-models for more details). In a future release, the default value for `weights_only` will be flipped to `True`. This limits the functions that could be executed during unpickling. Arbitrary objects will no longer be allowed to be loaded via this mode unless they are explicitly allowlisted by the user via `torch.serialization.add_safe_globals`. We recommend you start setting `weights_only=True` for any use case where you don't have full control of the loaded file. Please open an issue on GitHub for any issues related to this experimental feature.\n",
      "  model.load_state_dict(torch.load(f\"models/model_acc_{86}.pth\"))\n"
     ]
    },
    {
     "data": {
      "text/plain": [
       "<All keys matched successfully>"
      ]
     },
     "execution_count": 98,
     "metadata": {},
     "output_type": "execute_result"
    }
   ],
   "source": [
    "model = FashionMnistModel(1, 10, 10)\n",
    "model.load_state_dict(torch.load(f\"models/model_acc_{86}.pth\"))"
   ]
  },
  {
   "cell_type": "code",
   "execution_count": 99,
   "metadata": {},
   "outputs": [
    {
     "name": "stdout",
     "output_type": "stream",
     "text": [
      "----------------------------------------------------------------\n",
      "        Layer (type)               Output Shape         Param #\n",
      "================================================================\n",
      "            Conv2d-1           [-1, 10, 28, 28]             100\n",
      "              ReLU-2           [-1, 10, 28, 28]               0\n",
      "            Conv2d-3           [-1, 10, 28, 28]             910\n",
      "              ReLU-4           [-1, 10, 28, 28]               0\n",
      "         MaxPool2d-5           [-1, 10, 14, 14]               0\n",
      "            Conv2d-6           [-1, 10, 14, 14]             910\n",
      "              ReLU-7           [-1, 10, 14, 14]               0\n",
      "            Conv2d-8           [-1, 10, 14, 14]             910\n",
      "              ReLU-9           [-1, 10, 14, 14]               0\n",
      "        MaxPool2d-10             [-1, 10, 7, 7]               0\n",
      "          Flatten-11                  [-1, 490]               0\n",
      "           Linear-12                   [-1, 10]           4,910\n",
      "================================================================\n",
      "Total params: 7,740\n",
      "Trainable params: 7,740\n",
      "Non-trainable params: 0\n",
      "----------------------------------------------------------------\n",
      "Input size (MB): 0.00\n",
      "Forward/backward pass size (MB): 0.32\n",
      "Params size (MB): 0.03\n",
      "Estimated Total Size (MB): 0.35\n",
      "----------------------------------------------------------------\n"
     ]
    }
   ],
   "source": [
    "from torchsummary import summary\n",
    "summary(model, (1, 28, 28))"
   ]
  },
  {
   "cell_type": "code",
   "execution_count": 100,
   "metadata": {},
   "outputs": [
    {
     "data": {
      "image/png": "[encoded data removed]",
      "text/plain": [
       "<Figure size 640x480 with 1 Axes>"
      ]
     },
     "metadata": {},
     "output_type": "display_data"
    }
   ],
   "source": [
    "\n",
    "img = test_data[0][0].unsqueeze(0)\n",
    "y = test_data.targets[100]\n",
    "plt.imshow(img.squeeze(0).squeeze(0), cmap='gray')\n",
    "plt.axis('off')\n",
    "\n",
    "plt.show()"
   ]
  },
  {
   "cell_type": "code",
   "execution_count": 101,
   "metadata": {},
   "outputs": [
    {
     "data": {
      "image/png": "[encoded data removed]",
      "text/plain": [
       "<Figure size 1500x500 with 3 Axes>"
      ]
     },
     "metadata": {},
     "output_type": "display_data"
    }
   ],
   "source": [
    "import torch\n",
    "import matplotlib.pyplot as plt\n",
    "import numpy as np\n",
    "import cv2\n",
    "\n",
    "NUM = 130\n",
    "\n",
    "img = test_data[NUM][0].unsqueeze(0)\n",
    "y = test_data.targets[100]\n",
    "\n",
    "target_layer = model.block_2[-3]\n",
    "\n",
    "activations = []\n",
    "gradients = []\n",
    "\n",
    "def forward_hook(module, input, output):\n",
    "    activations.append(output)\n",
    "\n",
    "def backward_hook(module, grad_input, grad_output):\n",
    "    gradients.append(grad_output[0])\n",
    "\n",
    "target_layer.register_forward_hook(forward_hook)\n",
    "target_layer.register_full_backward_hook(backward_hook)\n",
    "\n",
    "model.eval()\n",
    "\n",
    "output = model(img)\n",
    "pred_class = output.argmax(dim=1).item()\n",
    "\n",
    "model.zero_grad()\n",
    "\n",
    "output[:, pred_class].backward()\n",
    "\n",
    "gradients = gradients[0].cpu().data.numpy()\n",
    "activations = activations[0].cpu().data.numpy()\n",
    "\n",
    "weights = np.mean(gradients, axis=(2, 3))  # Global average pooling of gradients\n",
    "grad_cam = np.zeros(activations.shape[2:], dtype=np.float32)\n",
    "\n",
    "for i, w in enumerate(weights[0]):\n",
    "    grad_cam += w * activations[0, i, :, :]\n",
    "\n",
    "grad_cam = np.maximum(grad_cam, 0)\n",
    "\n",
    "grad_cam = (grad_cam - grad_cam.min()) / (grad_cam.max() - grad_cam.min())\n",
    "\n",
    "heatmap = cv2.resize(grad_cam, (img.shape[2], img.shape[3]))\n",
    "\n",
    "heatmap = cv2.applyColorMap(np.uint8(255 * heatmap), cv2.COLORMAP_JET)\n",
    "heatmap = np.float32(heatmap) / 255\n",
    "\n",
    "\n",
    "\n",
    "img_np = img.cpu().squeeze().numpy() \n",
    "\n",
    "overlayed_img = heatmap * 0.4 + np.stack([img_np] * 3, axis=-1) * 0.6  # Replicating the grayscale image into 3 channels\n",
    "\n",
    "\n",
    "fig, ax = plt.subplots(1, 3)\n",
    "fig.set_size_inches(15, 5)\n",
    "\n",
    "ax[0].imshow(heatmap)\n",
    "ax[0].axis('off')\n",
    "\n",
    "ax[1].imshow(np.clip(overlayed_img, 0, 1))\n",
    "ax[1].axis('off')\n",
    "\n",
    "ax[2].imshow(img.squeeze())\n",
    "ax[2].axis('off')\n",
    "\n",
    "plt.show()"
   ]
  }
 ],
 "metadata": {
  "kernelspec": {
   "display_name": ".venv",
   "language": "python",
   "name": "python3"
  },
  "language_info": {
   "codemirror_mode": {
    "name": "ipython",
    "version": 3
   },
   "file_extension": ".py",
   "mimetype": "text/x-python",
   "name": "python",
   "nbconvert_exporter": "python",
   "pygments_lexer": "ipython3",
   "version": "3.12.6"
  }
 },
 "nbformat": 4,
 "nbformat_minor": 2
}

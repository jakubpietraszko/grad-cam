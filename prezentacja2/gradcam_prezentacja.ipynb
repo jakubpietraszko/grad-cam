{
 "cells": [
  {
   "cell_type": "code",
   "execution_count": null,
   "metadata": {},
   "outputs": [],
   "source": [
    "from torchvision import models, transforms\n",
    "from torchsummary import summary\n",
    "import torch\n",
    "import numpy as np\n",
    "import cv2\n",
    "import PIL\n",
    "import matplotlib.pyplot as plt\n",
    "\n",
    "from utils import *\n",
    "from src import *"
   ]
  },
  {
   "cell_type": "code",
   "execution_count": null,
   "metadata": {},
   "outputs": [],
   "source": [
    "model = models.resnet50(pretrained=True)\n",
    "class_names = np.loadtxt('imagenet_classes.txt', str, delimiter='\\t')"
   ]
  },
  {
   "cell_type": "code",
   "execution_count": null,
   "metadata": {},
   "outputs": [],
   "source": [
    "img = get_image_torch('images/husky.jpg', 224, 224)\n",
    "cam_husky_our = get_gradcam(img, model, model.layer4[-1].conv3)\n",
    "overlay_plot_torch(img, cam_husky_our, 0.5, 'images_prezentacja/gradcam_husky.png')"
   ]
  },
  {
   "cell_type": "code",
   "execution_count": null,
   "metadata": {},
   "outputs": [],
   "source": [
    "img = get_image_torch('images/precelek.jpg', 224, 224)\n",
    "cam_pretzel_our = get_gradcam(img, model, model.layer4[-1].conv3)\n",
    "overlay_plot_torch(img, cam_pretzel_our, 0.5, 'images_prezentacja/gradcam_precel.png')"
   ]
  },
  {
   "cell_type": "code",
   "execution_count": null,
   "metadata": {},
   "outputs": [],
   "source": [
    "from pytorch_grad_cam import GradCAM, HiResCAM, AblationCAM, ScoreCAM, GradCAMPlusPlus, XGradCAM\n",
    "from pytorch_grad_cam.utils.model_targets import ClassifierOutputTarget\n",
    "from pytorch_grad_cam.utils.image import show_cam_on_image\n",
    "from torchvision.models import resnet50\n",
    "from utils import *\n",
    "from src import *"
   ]
  },
  {
   "cell_type": "code",
   "execution_count": null,
   "metadata": {},
   "outputs": [],
   "source": [
    "model = resnet50(pretrained=True)\n",
    "target_layers = [model.layer4[-1].conv3]"
   ]
  },
  {
   "cell_type": "code",
   "execution_count": null,
   "metadata": {},
   "outputs": [],
   "source": [
    "input_tensor = get_image_torch('images/husky.jpg', 224, 224).unsqueeze(0)\n",
    "targets = [ClassifierOutputTarget(250)]\n",
    "\n",
    "with GradCAM(model=model, target_layers=target_layers) as cam:\n",
    "  cam_husky_lib = cam(input_tensor=input_tensor, targets=targets).squeeze(0)\n",
    "overlay_plot_torch(input_tensor.squeeze(), cam_husky_lib, 0.5, 'images_prezentacja/gradcam_husky_lib.png')\n",
    "\n",
    "input_tensor = get_image_torch('images/precelek.jpg', 224, 224).unsqueeze(0)\n",
    "targets = [ClassifierOutputTarget(932)]\n",
    "\n",
    "with GradCAM(model=model, target_layers=target_layers) as cam:\n",
    "  cam_pretzel_lib = cam(input_tensor=input_tensor, targets=targets).squeeze(0)\n",
    "overlay_plot_torch(input_tensor.squeeze(), cam_pretzel_lib, 0.5, 'images_prezentacja/gradcam_precel_lib.png')"
   ]
  },
  {
   "cell_type": "code",
   "execution_count": null,
   "metadata": {},
   "outputs": [],
   "source": [
    "cam_husky_our = cv2.resize(cam_husky_our, (224, 224))\n",
    "cam_pretzel_our = cv2.resize(cam_pretzel_our, (224, 224))"
   ]
  },
  {
   "cell_type": "code",
   "execution_count": null,
   "metadata": {},
   "outputs": [],
   "source": [
    "np.mean((cam_husky_our - cam_husky_lib)**2), np.mean((cam_pretzel_our - cam_pretzel_lib)**2)"
   ]
  },
  {
   "cell_type": "code",
   "execution_count": null,
   "metadata": {},
   "outputs": [],
   "source": [
    "from skimage.metrics import structural_similarity as ssim\n",
    "# 1 identyczne \n",
    "# -1 rozna\n",
    "\n",
    "ssim(cam_husky_our, cam_husky_lib, data_range=cam_husky_our.max() - cam_husky_our.min()), ssim(cam_pretzel_our, cam_pretzel_lib, data_range=cam_pretzel_our.max() - cam_pretzel_our.min())"
   ]
  },
  {
   "cell_type": "code",
   "execution_count": null,
   "metadata": {},
   "outputs": [],
   "source": [
    "np.mean(np.abs(cam_husky_our - cam_husky_lib)), np.mean(np.abs(cam_pretzel_our - cam_pretzel_lib))"
   ]
  },
  {
   "cell_type": "code",
   "execution_count": null,
   "metadata": {},
   "outputs": [],
   "source": [
    "from sklearn.metrics.pairwise import cosine_similarity\n",
    "# 1 identyczne\n",
    "# 0 brak\n",
    "\n",
    "cosine_similarity(cam_husky_our.reshape(1, -1), cam_husky_lib.reshape(1, -1)), cosine_similarity(cam_pretzel_our.reshape(1, -1), cam_pretzel_lib.reshape(1, -1))"
   ]
  }
 ],
 "metadata": {
  "kernelspec": {
   "display_name": ".venv",
   "language": "python",
   "name": "python3"
  },
  "language_info": {
   "codemirror_mode": {
    "name": "ipython",
    "version": 3
   },
   "file_extension": ".py",
   "mimetype": "text/x-python",
   "name": "python",
   "nbconvert_exporter": "python",
   "pygments_lexer": "ipython3",
   "version": "3.12.7"
  }
 },
 "nbformat": 4,
 "nbformat_minor": 2
}

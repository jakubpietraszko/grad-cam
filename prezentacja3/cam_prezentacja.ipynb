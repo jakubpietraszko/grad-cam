{
 "cells": [
  {
   "cell_type": "code",
   "execution_count": 7,
   "metadata": {},
   "outputs": [],
   "source": [
    "from torchvision import models, transforms\n",
    "from torchsummary import summary\n",
    "import torch\n",
    "import numpy as np\n",
    "import cv2\n",
    "import PIL\n",
    "import matplotlib.pyplot as plt\n",
    "\n",
    "import sys\n",
    "import os\n",
    "\n",
    "current_dir = os.getcwd()\n",
    "sys.path.append(os.path.dirname(current_dir))\n",
    "\n",
    "from lib.src import *\n",
    "from lib.utils import *\n",
    "\n",
    "from pytorch_grad_cam import GradCAM, HiResCAM, AblationCAM, ScoreCAM, GradCAMPlusPlus, XGradCAM\n",
    "from pytorch_grad_cam.utils.model_targets import ClassifierOutputTarget\n",
    "from pytorch_grad_cam.utils.image import show_cam_on_image\n",
    "from torchvision.models import resnet50"
   ]
  },
  {
   "cell_type": "code",
   "execution_count": 8,
   "metadata": {},
   "outputs": [
    {
     "data": {
      "text/plain": [
       "2000"
      ]
     },
     "execution_count": 8,
     "metadata": {},
     "output_type": "execute_result"
    }
   ],
   "source": [
    "id_name = dict()\n",
    "dups_id_name = dict()\n",
    "\n",
    "for i, name in enumerate(open('imagenet_classes.txt', 'r')):\n",
    "    name = name[:-1]\n",
    "    name = name.lower()\n",
    "    name = name.replace(' ', '_')\n",
    "    id_name[i] = name\n",
    "\n",
    "len(id_name)\n",
    "hash_name = dict()\n",
    "dups_hash_name = dict()\n",
    "\n",
    "for line in open('imagenet.txt', 'r'):\n",
    "    line = line[:-1]\n",
    "    h, i, n = line.split()\n",
    "    n = n.lower()\n",
    "    hash_name[h] = n\n",
    "len(hash_name)\n",
    "DICT = dict()\n",
    "\n",
    "for k1, v1 in id_name.items():\n",
    "    for k2, v2 in hash_name.items():\n",
    "        if v1 == v2:\n",
    "            DICT[k1] = (k1, k2, v1)\n",
    "            DICT[k2] = (k1, k2, v1)\n",
    "len(DICT)"
   ]
  },
  {
   "cell_type": "code",
   "execution_count": 11,
   "metadata": {},
   "outputs": [
    {
     "name": "stderr",
     "output_type": "stream",
     "text": [
      "100%|██████████| 20/20 [01:07<00:00,  3.40s/it]\n"
     ]
    }
   ],
   "source": [
    "import random\n",
    "import os\n",
    "from tqdm import tqdm\n",
    "\n",
    "\n",
    "MODEL = resnet50(pretrained=True)\n",
    "TARGET = MODEL.layer4[-1].conv3\n",
    "\n",
    "before = []\n",
    "after = []\n",
    "\n",
    "PERCENTAGE = 0.01\n",
    "CLASSES = 20\n",
    "IMG_PER_CLASS = 5\n",
    "IN_IMG = 224\n",
    "\n",
    "VISUALIZE = False\n",
    "\n",
    "CAM_FUNCTION = get_cam\n",
    "\n",
    "HEATMAP = 0.5\n",
    "\n",
    "\n",
    "for dir_name in tqdm(random.sample(os.listdir('imagenet-mini/train'), CLASSES)):\n",
    "    for file_name in random.sample(os.listdir(f'imagenet-mini/train/{dir_name}'), IMG_PER_CLASS):\n",
    "\n",
    "        before_img = get_image_torch(f'imagenet-mini/train/{dir_name}/{file_name}', IN_IMG, IN_IMG)\n",
    "        id, hash, name = DICT[dir_name]\n",
    "\n",
    "        MODEL.eval()\n",
    "        out = MODEL(before_img.unsqueeze(0))\n",
    "        out = torch.nn.functional.softmax(out, dim=1)\n",
    "\n",
    "        bef = out[0, id].item()\n",
    "\n",
    "        before.append(out[0, id].item())\n",
    "\n",
    "        MODEL.eval()\n",
    "        out = MODEL(before_img.unsqueeze(0))\n",
    "        out = torch.nn.functional.softmax(out, dim=1)\n",
    "        argmax = torch.argmax(out, dim=1)\n",
    "\n",
    "        pred = DICT[argmax.item()][2], out[0, argmax].item()\n",
    "\n",
    "        before_cam = CAM_FUNCTION(before_img, MODEL, TARGET, id)\n",
    "\n",
    "        after_image = delete_the_least_important_pixels(before_img, before_cam, PERCENTAGE)\n",
    "\n",
    "        before_cam = CAM_FUNCTION(after_image, MODEL, TARGET, id)\n",
    "\n",
    "        MODEL.eval()\n",
    "        out = MODEL(after_image.unsqueeze(0))\n",
    "        out = torch.nn.functional.softmax(out, dim=1)\n",
    "\n",
    "        aft = out[0, id].item()\n",
    "\n",
    "        after.append(out[0, id].item())\n",
    "\n",
    "        if VISUALIZE:\n",
    "            print('pred', *pred)\n",
    "            print('before', name, bef)\n",
    "            print('after', name, aft)\n",
    "            overlay_plot_torch(before_img, before_cam, HEATMAP)\n",
    "            overlay_plot_torch(after_image, before_cam, HEATMAP)"
   ]
  },
  {
   "cell_type": "code",
   "execution_count": 12,
   "metadata": {},
   "outputs": [
    {
     "data": {
      "text/plain": [
       "(0.0056558677020348115, 0.4)"
      ]
     },
     "execution_count": 12,
     "metadata": {},
     "output_type": "execute_result"
    }
   ],
   "source": [
    "before_arr = np.array(before)\n",
    "after_arr = np.array(after)\n",
    "np.maximum(0, -before_arr + after_arr).sum() / before_arr.shape[0], (before_arr < after_arr).sum() / before_arr.shape[0]"
   ]
  },
  {
   "cell_type": "code",
   "execution_count": null,
   "metadata": {},
   "outputs": [],
   "source": []
  }
 ],
 "metadata": {
  "kernelspec": {
   "display_name": ".venv",
   "language": "python",
   "name": "python3"
  },
  "language_info": {
   "codemirror_mode": {
    "name": "ipython",
    "version": 3
   },
   "file_extension": ".py",
   "mimetype": "text/x-python",
   "name": "python",
   "nbconvert_exporter": "python",
   "pygments_lexer": "ipython3",
   "version": "3.12.7"
  }
 },
 "nbformat": 4,
 "nbformat_minor": 2
}
